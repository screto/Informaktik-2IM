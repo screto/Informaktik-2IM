{
  "nbformat": 4,
  "nbformat_minor": 0,
  "metadata": {
    "jupytext": {
      "cell_metadata_filter": "-all",
      "notebook_metadata_filter": "-all"
    },
    "kernelspec": {
      "display_name": "Python 3",
      "language": "python",
      "name": "python3"
    },
    "language_info": {
      "codemirror_mode": {
        "name": "ipython",
        "version": 3
      },
      "file_extension": ".py",
      "mimetype": "text/x-python",
      "name": "python",
      "nbconvert_exporter": "python",
      "pygments_lexer": "ipython3",
      "version": "3.8.6"
    },
    "colab": {
      "name": "03_drawing_with_turtles.ipynb",
      "provenance": []
    }
  },
  "cells": [
    {
      "cell_type": "markdown",
      "metadata": {
        "id": "6QCxfIGkU9hr"
      },
      "source": [
        "# Turtle Graphics\n",
        "\n",
        "In diesem Kapitel beschäftigen wir uns mit sogenannten Turtle Graphics. Diese\n",
        "sind ein nützliches Tool im Erlernen vom Programmieren, denn es geht darum\n",
        "einer Schildkröte Anweisungen zu erteilen, welche am Ende zu einem Bild führen.\n",
        "\n",
        "Die Schildkröte trägt einen Stift bei sich, der entweder auf dem Papier ist,\n",
        "oder hochgehalten wird. Der Schildkröte kann man dann Anweisungen erteilen wie:\n",
        "\n",
        "- Laufe nach vorne\n",
        "- Drehe dich nach rechts\n",
        "- Stift hoch\n",
        "- Stift runter\n",
        "\n",
        "Damit können recht komplexe Bilder entstehen.\n",
        "\n",
        "## Beispiel\n",
        "\n",
        "Um zu verstehen wie das geht, ist in der nächsten Zelle ein Beispiel\n",
        "aufgeführt.\n",
        "\n",
        "Die Schildkröte startet immer mit dem Stift am Boden und in der Mitte des\n",
        "Feldes. Die Blickrichtung der Schildkröte ist immer nach rechts.\n",
        "\n",
        "In dem Beispiel, läuft die Schildkröte 50 Einheiten in Blickrichtung, dann\n",
        "dreht sie sich um 90° nach rechts (aus der Blickrichtung der Schildkröte) und\n",
        "läuft nochmals 50 Einheiten nach vorne."
      ]
    },
    {
      "cell_type": "code",
      "metadata": {
        "id": "3EUpi9r3U9h8",
        "outputId": "baa64e23-722a-45e2-e6c0-e94e0614f129",
        "colab": {
          "base_uri": "https://localhost:8080/",
          "height": 368
        }
      },
      "source": [
        "from lib.myturtle import *\n",
        "\n",
        "make_turtle()\n",
        "\n",
        "forward(50)\n",
        "turn(90)\n",
        "forward(50)\n",
        "\n",
        "show()"
      ],
      "execution_count": 1,
      "outputs": [
        {
          "output_type": "error",
          "ename": "ModuleNotFoundError",
          "evalue": "ignored",
          "traceback": [
            "\u001b[0;31m---------------------------------------------------------------------------\u001b[0m",
            "\u001b[0;31mModuleNotFoundError\u001b[0m                       Traceback (most recent call last)",
            "\u001b[0;32m<ipython-input-1-9d66efedf4b9>\u001b[0m in \u001b[0;36m<module>\u001b[0;34m()\u001b[0m\n\u001b[0;32m----> 1\u001b[0;31m \u001b[0;32mfrom\u001b[0m \u001b[0mlib\u001b[0m\u001b[0;34m.\u001b[0m\u001b[0mmyturtle\u001b[0m \u001b[0;32mimport\u001b[0m \u001b[0;34m*\u001b[0m\u001b[0;34m\u001b[0m\u001b[0;34m\u001b[0m\u001b[0m\n\u001b[0m\u001b[1;32m      2\u001b[0m \u001b[0;34m\u001b[0m\u001b[0m\n\u001b[1;32m      3\u001b[0m \u001b[0mmake_turtle\u001b[0m\u001b[0;34m(\u001b[0m\u001b[0;34m)\u001b[0m\u001b[0;34m\u001b[0m\u001b[0;34m\u001b[0m\u001b[0m\n\u001b[1;32m      4\u001b[0m \u001b[0;34m\u001b[0m\u001b[0m\n\u001b[1;32m      5\u001b[0m \u001b[0mforward\u001b[0m\u001b[0;34m(\u001b[0m\u001b[0;36m50\u001b[0m\u001b[0;34m)\u001b[0m\u001b[0;34m\u001b[0m\u001b[0;34m\u001b[0m\u001b[0m\n",
            "\u001b[0;31mModuleNotFoundError\u001b[0m: No module named 'lib'",
            "",
            "\u001b[0;31m---------------------------------------------------------------------------\u001b[0;32m\nNOTE: If your import is failing due to a missing package, you can\nmanually install dependencies using either !pip or !apt.\n\nTo view examples of installing some common dependencies, click the\n\"Open Examples\" button below.\n\u001b[0;31m---------------------------------------------------------------------------\u001b[0m\n"
          ]
        }
      ]
    },
    {
      "cell_type": "markdown",
      "metadata": {
        "id": "rG6FWPVbU9h-"
      },
      "source": [
        "## Zeile für Zeile\n",
        "\n",
        "Die erste Zeile brauchen wir damit wir die Turtle überhaupt verwenden können.\n",
        "Wir haben das in früherem Code bereits gesehen, wenn wir `random` importieren\n",
        "mussten. Importieren müssen wir immer wenn wir etwas möchten das nicht im\n",
        "Standard Python enthalten ist. Das ist auch sinnvoll so, denn nicht alle\n",
        "Programme brauchen alles, deshalb laden wir zusätzliche Funktionalität einfach\n",
        "mit dem `import` dazu.\n",
        "\n",
        "**Hinweis:**\n",
        ">Hier wird von `lib.turtle` importiert. Das ist ein selbst geschriebenes Modul\n",
        ">und ist direkt nicht verfügbar wenn Sie den Code wo anders ausführen. Darüber\n",
        ">werden wir später noch mehr lernen, auch wie es möglich ist eigene Module zu\n",
        ">verwenden.\n",
        "\n",
        "`make_turtle()`: Mit dieser Funktion wir eine neue Turtle erstellt. Mit ihr\n",
        "wird auch immer gleich ein neues Zeichenfeld erstellt. Diese Funktion müssen\n",
        "Sie immer an Anfang einer neuen Zeichnung aufrufen.\n",
        "\n",
        "`forward(50)`: Wie der Name bereits suggeriert, lässt diese Funktion die\n",
        "Schildkröte um 50 Einheiten nach vorne laufen. Wenn Sie rückwärts laufen\n",
        "möchten, können Sie einfach negative Zahlen verwenden.\n",
        "\n",
        "`turn(90)`: Diese Funktion lässt die Schildkröte um 90° nach rechts drehen.\n",
        "Auch hier können negative Zahlen verwendet werden.\n",
        "\n",
        "`show()`: Diese Funktion zeigt die Zeichnung an. Sie können sich das ähnlich\n",
        "wie bei der `print()`-Funktion vorstellen. Sie müssen `show()` aufrufen wenn\n",
        "Sie die Zeichnung ansehen möchten."
      ]
    },
    {
      "cell_type": "markdown",
      "metadata": {
        "id": "ZFEHw2DnU9h_"
      },
      "source": [
        "## Eigene Zeichnung erstellen\n",
        "\n",
        "Nun sollen Sie eigene Zeichnungen erstellen.\n",
        "\n",
        "**Aufgabe:**\n",
        "> Lassen Sie die Schildkröte ein Rechteck zeichnen."
      ]
    },
    {
      "cell_type": "code",
      "metadata": {
        "id": "t4yluyowU9iA"
      },
      "source": [
        ""
      ],
      "execution_count": null,
      "outputs": []
    },
    {
      "cell_type": "markdown",
      "metadata": {
        "id": "ILadvUOJU9iB"
      },
      "source": [
        "## Viel zu einfach\n",
        "\n",
        "Das mit dem Rechteck war vermutlich viel zu einfach für Sie. Machen wir es ein\n",
        "wenig schwieriger.\n",
        "\n",
        "**Aufgabe:**\n",
        "> Lassen Sie die Schildkröte ein gleichseitiges Dreieck zeichnen.\n",
        ">\n",
        "> Sie finden nach der Code-Zelle meine Musterlösung, versuchen Sie aber nicht\n",
        "> davon abzuschreiben."
      ]
    },
    {
      "cell_type": "code",
      "metadata": {
        "id": "zqOnf3ZKU9iC"
      },
      "source": [
        ""
      ],
      "execution_count": null,
      "outputs": []
    },
    {
      "cell_type": "markdown",
      "metadata": {
        "id": "1LRqAoG2U9iC"
      },
      "source": [
        "Hier gibt es nicht nur eine richtige Lösung. Verwenden Sie hier was für Sie am\n",
        "meisten Sinn ergibt.\n",
        "\n",
        "**Musterlösung:**\n",
        "```python\n",
        "make_turtle()\n",
        "forward(50)\n",
        "turn(-120)\n",
        "forward(100)\n",
        "turn(-120)\n",
        "forward(100)\n",
        "turn(-120)\n",
        "forward(50)\n",
        "show()\n",
        "```"
      ]
    },
    {
      "cell_type": "markdown",
      "metadata": {
        "id": "j_2O4AMfU9iD"
      },
      "source": [
        "## Den Stift heben\n",
        "\n",
        "Wir möchten nun vielleicht auch Formen zeichnen die nicht zusammenhängend sind.\n",
        "Damit das in diesem Programm geht, müssen wir der Schildkröte sagen, sie soll\n",
        "den Stift anheben. In der nächsten Zelle, finden Sie Code der eine gestrichelte\n",
        "Linie zeichnet."
      ]
    },
    {
      "cell_type": "code",
      "metadata": {
        "id": "lpI5EgO3U9iE"
      },
      "source": [
        "make_turtle()\n",
        "\n",
        "pen_up()\n",
        "forward(-100)\n",
        "pen_down()\n",
        "\n",
        "for i in range(10):\n",
        "    forward(10)\n",
        "    pen_up()\n",
        "    forward(10)\n",
        "    pen_down()\n",
        "\n",
        "show()"
      ],
      "execution_count": null,
      "outputs": []
    },
    {
      "cell_type": "markdown",
      "metadata": {
        "id": "25-cJ4tZU9iE"
      },
      "source": [
        "## Wow! Mit Schleifen\n",
        "\n",
        "In der Zelle oben können Sie mehrere Dinge beobachten. Das erste fällt vlt\n",
        "nicht unbedingt auf, aber wenn wir einen neue Schildkröte mit `make_turtle()`\n",
        "erstellen, ist der Stift immer unten. Wollen wir also an einen anderen Ort\n",
        "laufen, müssen wir den Stift zuerst anheben. Hier wurde das gemacht damit der\n",
        "Strich etwas mehr in der Mitte ist.\n",
        "\n",
        "## `for`-Schleife\n",
        "\n",
        "Sie sehen das hier auch eine `for`-Schleife verwendet wurde. Das hat hier ganz\n",
        "einfache Gründe: Der Code innerhalb der Schleife wiederholt sich immer wieder,\n",
        "deshalb ist es hier praktisch eine Schleife zu verwenden.\n",
        "\n",
        "Die `for`-Schleife ist eigentlich nur eine Zählschleife. Sie zählt von 0 bis zu\n",
        "der Zahl die mit `range()` angegeben wird.\n",
        "\n",
        "Wir können dieses Wissen gleich nutzen und damit ein Quadrat erzeugen.\n",
        "\n",
        "**Aufgabe:**\n",
        "> Lassen Sie die Schildkröte ein Quadrat zeichnen. Nutzen Sie dafür eine\n",
        "> `for`-Schleife."
      ]
    },
    {
      "cell_type": "code",
      "metadata": {
        "id": "FXTHrr5wU9iF"
      },
      "source": [
        ""
      ],
      "execution_count": null,
      "outputs": []
    },
    {
      "cell_type": "markdown",
      "metadata": {
        "id": "g6frnkR-U9iG"
      },
      "source": [
        "## Wieder viel zu einfach\n",
        "\n",
        "Auch das war vermutlich wieder viel zu einfach für Sie. Machen wir es ein wenig\n",
        "spannender.\n",
        "\n",
        "**Aufgabe:**\n",
        "> Lassen Sie die Schildkröte ein regelmässiges 6-Eck zeichnen. Nutzen Sie auch\n",
        "> hierfür eine `for`-Schleife."
      ]
    },
    {
      "cell_type": "markdown",
      "metadata": {
        "id": "e5Zasrd0U9iH"
      },
      "source": [
        "## Und schon wieder Funktionen\n",
        "\n",
        "Ich gehe davon aus dass auch das viel zu einfach für Sie ist. In meiner\n",
        "Musterlösung sehen Sie das ich daraus eine Funktion gemacht habe. Ich habe das\n",
        "gemacht weil ich denke es könnte praktisch sein ein 6-Eck zu zeichnen, ohne\n",
        "immer überlegen zu müssen wie das gezeichnet wird.\n",
        "\n",
        "**Musterlösung:**\n",
        "\n",
        "```python\n",
        "def sechseck(length):\n",
        "    for i in range(6):\n",
        "        forward(length)\n",
        "        turn(60)\n",
        "\n",
        "make_turtle()\n",
        "sechseck(30)    \n",
        "show()\n",
        "```"
      ]
    },
    {
      "cell_type": "markdown",
      "metadata": {
        "id": "VYO9RdFmU9iI"
      },
      "source": [
        "## Crazy Turtle\n",
        "\n",
        "Nun ist die Schildkröte durchgedreht... Sie läuft wie wild durch die Gegend und\n",
        "zeichnet überall 6-ecke..."
      ]
    },
    {
      "cell_type": "code",
      "metadata": {
        "id": "2m7Nu9HTU9iI"
      },
      "source": [
        "from random import randint\n",
        "\n",
        "def sechseck(length):\n",
        "    for i in range(6):\n",
        "        forward(length)\n",
        "        turn(60)\n",
        "        \n",
        "def crazy():\n",
        "    pen_up()\n",
        "    turn(randint(0, 360))\n",
        "    forward(randint(40, 100))\n",
        "    pen_down()\n",
        "    sechseck(randint(10,20))\n",
        "\n",
        "make_turtle()\n",
        "for i in range(100):\n",
        "    crazy()\n",
        "\n",
        "show()"
      ],
      "execution_count": null,
      "outputs": []
    },
    {
      "cell_type": "markdown",
      "metadata": {
        "id": "8iyhvm2OU9iK"
      },
      "source": [
        "## Ganz schön verrückt\n",
        "\n",
        "Sie sehen das es durchaus Sinn ergeben kann einige Teile vom Code in Funktionen\n",
        "auszulagern. Bevor wir uns das aber nochmals genauer anschauen, haben wir noch\n",
        "ein wenig Spass mit den Graphiken. Es ist auch möglich in eine alte Graphik zu\n",
        "zeichnen. Wenn Sie die `make_turtle()` Funktion einfach weglassen, zeichnen Sie\n",
        "in das Bild der letzten Turtle.\n",
        "\n",
        "Da die verrückte Schildkröte manchmal auch davon laufen kann, können wir die\n",
        "`reset()`-Funktion verwenden. Diese Setzt die Schildkröte einfach wieder in den\n",
        "Mittelpunkt, und richtet sie nach rechts aus.\n",
        "\n",
        "**Hinweis:**\n",
        "> Wenn Sie die nächste Zelle ausführen, müssen Sie oben im Bild schauen was\n",
        "> passiert!"
      ]
    },
    {
      "cell_type": "code",
      "metadata": {
        "id": "g2UIU2xvU9iK"
      },
      "source": [
        "reset()\n",
        "for i in range(100):\n",
        "    crazy()\n",
        "    show()\n",
        "    sleep(0.1)"
      ],
      "execution_count": null,
      "outputs": []
    },
    {
      "cell_type": "markdown",
      "metadata": {
        "id": "dMMGJKZlU9iL"
      },
      "source": [
        "## Schlafen\n",
        "\n",
        "Die Funktion `sleep()` ist neu. Mit ihr können wir das zeichnen kurz\n",
        "unterbrechen. Das geht jedoch nur wenn wir in ein altes Bild zeichnen, und es\n",
        "ist auch nur zum Spass gedacht, damit eine witzige Animation heraus kommt.\n",
        "\n",
        "## Farben\n",
        "\n",
        "Wir können das ganze noch ein wenig besser gestalten, indem wir Farben\n",
        "verwenden. Dafür rufen Sie einfach die Funktion `color()` auf. Der Funktion\n",
        "können Sie einen Farbnamen übergeben, und dann wir alles in der Farbe\n",
        "gezeichnet.\n",
        "\n",
        "**Aufgabe:**\n",
        "> Führen Sie den Code in der nächsten Zelle aus, danach ändern Sie die Farbe,\n",
        "> und schauen was passiert."
      ]
    },
    {
      "cell_type": "code",
      "metadata": {
        "id": "LbzWuHvYU9iL"
      },
      "source": [
        "make_turtle()\n",
        "\n",
        "color('blue')\n",
        "for i in range(10):\n",
        "    crazy()\n",
        "reset()\n",
        "color('red')\n",
        "for i in range(20):\n",
        "    crazy()\n",
        "show()"
      ],
      "execution_count": null,
      "outputs": []
    },
    {
      "cell_type": "markdown",
      "metadata": {
        "id": "YSvs2HGSU9iM"
      },
      "source": [
        "## Farbe immer ändern\n",
        "\n",
        "Nun möchten wir gerne das sich die Farbe nach jedem zeichnen ändert. Ich gebe\n",
        "Ihnen in der nächsten Zelle das Gerüst dafür vor.\n",
        "\n",
        "**Aufgabe:**\n",
        "> Ergänzen Sie den Code so, das auch andere Farben verwendet werden."
      ]
    },
    {
      "cell_type": "code",
      "metadata": {
        "id": "3nSywImNU9iM"
      },
      "source": [
        "make_turtle()\n",
        "\n",
        "def choose_random_color():\n",
        "    random_number = randint(0,3)\n",
        "    if random_number == 0:\n",
        "        color('red')\n",
        "    else:\n",
        "        color('black')\n",
        "\n",
        "for i in range(100):\n",
        "    choose_random_color()\n",
        "    crazy()\n",
        "    \n",
        "show()"
      ],
      "execution_count": null,
      "outputs": []
    },
    {
      "cell_type": "markdown",
      "metadata": {
        "id": "bcyI9j_6U9iM"
      },
      "source": [
        "## 3D\n",
        "\n",
        "Leider können wir hier nicht direkt 3-dimensional arbeiten, aber wir können mit\n",
        "der Hilfe von Schrägbildern zum Beispiel einen Würfel zeichnen.\n",
        "\n",
        "**Aufgabe:**\n",
        "> Schreiben Sie eine Funktion `cube(length)`, die der Schildkröte die Anweisung\n",
        "> gibt einen Würfel zu zeichnen. Nutzen Sie den Parameter `length` um die\n",
        "> Kantenlänge des Würfels zu bestimmen."
      ]
    },
    {
      "cell_type": "code",
      "metadata": {
        "id": "t1L9iP1EU9iN"
      },
      "source": [
        ""
      ],
      "execution_count": null,
      "outputs": []
    },
    {
      "cell_type": "markdown",
      "metadata": {
        "id": "EB6BUL6VU9iN"
      },
      "source": [
        "## Flächen bemalen\n",
        "\n",
        "Mit der Schildkröte können wir auch Flächen bemalen. Das ist für die\n",
        "Schildkröte ein wenig aufwendig, denn sie muss immer hin und her laufen. Für\n",
        "unsere Zwecke reicht das aber.\n",
        "\n",
        "**Aufgabe:**\n",
        "> Ergänzen Sie den Code für die Funktion `fill_rect(width, height)` so das die\n",
        "> Schildkröte ein Rechteck mit der Breite `width` und der Höhe `height`\n",
        "> ausmalt."
      ]
    },
    {
      "cell_type": "code",
      "metadata": {
        "id": "cP2y4hVWU9iN"
      },
      "source": [
        "def fill_rect(width, height):\n",
        "    pass # TODO: Löschen Sie diese Zeile, und ergänzen Sie mit Ihrem Code"
      ],
      "execution_count": null,
      "outputs": []
    },
    {
      "cell_type": "markdown",
      "metadata": {
        "id": "Sd-iN4wQU9iO"
      },
      "source": [
        "## Position der Schildkröte\n",
        "\n",
        "Wenn wir die Position der Schildkröte bestimmen möchten, können wir das mit den\n",
        "Funktionen `get_x_pos()` und `get_y_pos()` machen.\n",
        "\n",
        "Die Schildkröte zeichnet auf einem Koordinatensystem wie es in der\n",
        "Computergrafik üblicherweise verwendet wird. Das bedeutet der Ursprung ist oben\n",
        "links. Standartmässig wird das Koordinatensystem mit `400` und `400` Pixel\n",
        "verwendet. Wenn Sie das ändern möchten, können Sie das mit der Funktion\n",
        "`set_canvas_size(width, height)` machen. Wenn Sie diese Funktion verwenden,\n",
        "wird eine neue Schildkröte mit einer neuen Zeichenfläche erstellt, die alte\n",
        "wird also gelöscht. Sie können diese Funktion statt `make_turtle()` verwenden.\n",
        "\n",
        "**Aufgabe:**\n",
        "> Definieren Sie einen Bereich auf dem Zeichnungsfeld wo die Schildkröte nicht\n",
        "> zeichnen darf. Also wenn die Schildkröte den Bereich betritt, muss sie den\n",
        "> Stift anheben. Wenn sie den Bereich verlässt, soll sie den Stift wieder\n",
        "> senken."
      ]
    },
    {
      "cell_type": "code",
      "metadata": {
        "id": "oeWZ3j2fU9iO"
      },
      "source": [
        ""
      ],
      "execution_count": null,
      "outputs": []
    }
  ]
}