{
  "nbformat": 4,
  "nbformat_minor": 0,
  "metadata": {
    "jupytext": {
      "cell_metadata_filter": "-all",
      "notebook_metadata_filter": "-all"
    },
    "kernelspec": {
      "display_name": "Python 3",
      "language": "python",
      "name": "python3"
    },
    "language_info": {
      "codemirror_mode": {
        "name": "ipython",
        "version": 3
      },
      "file_extension": ".py",
      "mimetype": "text/x-python",
      "name": "python",
      "nbconvert_exporter": "python",
      "pygments_lexer": "ipython3",
      "version": "3.8.6"
    },
    "colab": {
      "name": "03_drawing_with_turtles.ipynb",
      "provenance": [],
      "collapsed_sections": [],
      "include_colab_link": true
    }
  },
  "cells": [
    {
      "cell_type": "markdown",
      "metadata": {
        "id": "view-in-github",
        "colab_type": "text"
      },
      "source": [
        "<a href=\"https://colab.research.google.com/github/screto/Informatik-2IM/blob/main/03_drawing_with_turtles.ipynb\" target=\"_parent\"><img src=\"https://colab.research.google.com/assets/colab-badge.svg\" alt=\"Open In Colab\"/></a>"
      ]
    },
    {
      "cell_type": "markdown",
      "metadata": {
        "id": "pL6o5wBk3NDR"
      },
      "source": [
        "Lassen Sie den folgenden Code laufen, damit Sie anschliessend mit Turtle arbeiten können."
      ]
    },
    {
      "cell_type": "code",
      "metadata": {
        "id": "GWD8m8jadf__"
      },
      "source": [
        "!pip3 install ColabTurtle"
      ],
      "execution_count": null,
      "outputs": []
    },
    {
      "cell_type": "markdown",
      "metadata": {
        "id": "fJOtJ_VK-HKw"
      },
      "source": [
        "# Turtle Graphics\n",
        "\n",
        "In diesem Kapitel beschäftigen wir uns mit sogenannten Turtle Graphics. Diese\n",
        "sind ein nützliches Tool im erlernen vom Programmieren, denn es geht darum\n",
        "einer Schildkröte Anweisungen zu erteilen, welche am Ende zu einem Bild führen.\n",
        "\n",
        "Die Schildkröte trägt einen Stift bei sich, der entweder auf dem Papier ist,\n",
        "oder hochgehalten wird. Der Schildkröte kann man dann Anweisungen erteilen wie:\n",
        "\n",
        "- Laufe nach vorne\n",
        "- Drehe dich nach rechts\n",
        "- Stift hoch\n",
        "- Stift runter\n",
        "\n",
        "Damit können recht komplexe Bilder entstehen.\n",
        "\n",
        "## Beispiel\n",
        "\n",
        "Um zu verstehen wie das geht, ist in der nächsten Zelle ein Beispiel\n",
        "aufgeführt.\n",
        "\n",
        "Die Schildkröte startet immer mit dem Stift am Boden und in der Mitte des\n",
        "Feldes. Die Blickrichtung der Schildkröte ist immer nach oben.\n",
        "\n",
        "In dem Beispiel, läuft die Schildkröte 50 Einheiten in Blickrichtung, dann\n",
        "dreht sie sich um 90° nach rechts (aus der Blickrichtung der Schildkröte) und\n",
        "läuft nochmals 50 Einheiten nach vorne."
      ]
    },
    {
      "cell_type": "code",
      "metadata": {
        "id": "j1fNzYtv-HK3"
      },
      "source": [
        "from ColabTurtle import *\n",
        "\n",
        "initializeTurtle(initial_speed=5)\n",
        "\n",
        "forward(50)\n",
        "right(90)\n",
        "forward(50)"
      ],
      "execution_count": null,
      "outputs": []
    },
    {
      "cell_type": "markdown",
      "metadata": {
        "id": "YCATarNP-HK4"
      },
      "source": [
        "## Zeile für Zeile\n",
        "\n",
        "Die erste Zeile brauchen wir damit wir die Turtle überhaupt verwenden können.\n",
        "Wir haben das in früherem Code bereits gesehen, wenn wir `random` importieren\n",
        "mussten. Importieren müssen wir immer wenn wir etwas möchten das nicht im\n",
        "Standard Python enthalten ist. Das ist auch sinnvoll so, denn nicht alle\n",
        "Programme brauchen alles, deshalb laden wir zusätzliche Funktionalität einfach\n",
        "mit dem `import` dazu.\n",
        "\n",
        "`initializeTurtle()`: Mit dieser Funktion wir eine neue Turtle erstellt. Mit ihr\n",
        "wird auch immer gleich ein neues Zeichenfeld erstellt. Diese Funktion müssen\n",
        "Sie immer an Anfang einer neuen Zeichnung aufrufen.\n",
        "Der Wert in der Klammer `initial_speed=5` gibt an wie schnell sich die Schildkröte bewegen soll. Man kann die Klammer auch leer lassen.\n",
        "\n",
        "`forward(50)`: Wie der Name bereits suggeriert, lässt diese Funktion die\n",
        "Schildkröte um 50 Einheiten nach vorne laufen. Wenn Sie rückwärts laufen\n",
        "möchten, können Sie einfach negative Zahlen verwenden.\n",
        "\n",
        "`right(90)`: Diese Funktion lässt die Schildkröte um 90° nach rechts drehen.\n",
        "Auch hier können negative Zahlen verwendet werden.\n"
      ]
    },
    {
      "cell_type": "markdown",
      "metadata": {
        "id": "JhPoT23d-HK4"
      },
      "source": [
        "## Eigene Zeichnung erstellen\n",
        "\n",
        "Nun sollen Sie eigene Zeichnungen erstellen.\n",
        "\n",
        "**Aufgabe:**\n",
        "> Lassen Sie die Schildkröte ein Rechteck zeichnen."
      ]
    },
    {
      "cell_type": "code",
      "metadata": {
        "id": "iEMAjWNM-HK5"
      },
      "source": [
        ""
      ],
      "execution_count": null,
      "outputs": []
    },
    {
      "cell_type": "markdown",
      "metadata": {
        "id": "N7iNybDq-HK5"
      },
      "source": [
        "## Viel zu einfach\n",
        "\n",
        "Das mit dem Rechteck war vermutlich viel zu einfach für Sie. Machen wir es ein\n",
        "wenig schwieriger.\n",
        "\n",
        "**Aufgabe:**\n",
        "> Lassen Sie die Schildkröte ein gleichseitiges Dreieck zeichnen.\n",
        ">\n",
        "> Sie finden nach der Code-Zelle meine Musterlösung, versuchen Sie aber nicht\n",
        "> davon abzuschreiben."
      ]
    },
    {
      "cell_type": "code",
      "metadata": {
        "id": "SJDydMo_-HK5"
      },
      "source": [
        ""
      ],
      "execution_count": null,
      "outputs": []
    },
    {
      "cell_type": "markdown",
      "metadata": {
        "id": "XKIWZRKM-HK5"
      },
      "source": [
        "Hier gibt es nicht nur eine richtige Lösung. Verwenden Sie hier das, was für Sie am\n",
        "meisten Sinn ergibt.\n",
        "\n",
        "**Musterlösung:**\n",
        "```python\n",
        "initializeTurtle(initial_speed=5)\n",
        "color('blue')\n",
        "forward(50)\n",
        "right(-120)\n",
        "color('red')\n",
        "forward(100)\n",
        "right(-120)\n",
        "color('yellow')\n",
        "forward(100)\n",
        "right(-120)\n",
        "color('blue')\n",
        "forward(50)\n",
        "```\n",
        "\n",
        "Wie Sie sehen, kann man auch die Farbe der Schildkröte und damit der Linie ändern. Probieren Sie es bei sich aus."
      ]
    },
    {
      "cell_type": "markdown",
      "metadata": {
        "id": "gJQI765x-HK6"
      },
      "source": [
        "## Den Stift heben\n",
        "\n",
        "Wir möchten nun vielleicht auch Formen zeichnen die nicht zusammenhängend sind.\n",
        "Damit das in diesem Programm geht, müssen wir der Schildkröte sagen, sie soll\n",
        "den Stift anheben. In der nächsten Zelle, finden Sie Code, der eine gestrichelte\n",
        "Linie zeichnet."
      ]
    },
    {
      "cell_type": "code",
      "metadata": {
        "id": "H3R-47xL-HK6"
      },
      "source": [
        "initializeTurtle()\n",
        "\n",
        "penup()\n",
        "forward(-100)\n",
        "pendown()\n",
        "\n",
        "for i in range(10):\n",
        "    forward(10)\n",
        "    penup()\n",
        "    forward(10)\n",
        "    pendown()"
      ],
      "execution_count": null,
      "outputs": []
    },
    {
      "cell_type": "markdown",
      "metadata": {
        "id": "WOSKaFwN-HK6"
      },
      "source": [
        "## Wow! Mit Schleifen\n",
        "\n",
        "In der Zelle oben können Sie mehrere Dinge beobachten. Das erste fällt vielleicht\n",
        "nicht unbedingt auf, aber wenn wir einen neue Schildkröte mit `initializeTurtle()`\n",
        "erstellen, ist der Stift immer unten. Wollen wir also an einen anderen Ort\n",
        "laufen, müssen wir den Stift zuerst anheben. Hier wurde das gemacht damit der\n",
        "Strich etwas mehr in der Mitte ist.\n",
        "\n",
        "## `for`-Schleife\n",
        "\n",
        "Sie sehen das hier auch eine `for`-Schleife verwendet wurde. Das hat hier ganz\n",
        "einfache Gründe: Der Code innerhalb der Schleife wiederholt sich immer wieder,\n",
        "deshalb ist es hier praktisch eine Schleife zu verwenden.\n",
        "\n",
        "Die `for`-Schleife ist eigentlich nur eine Zählschleife. Sie zählt von 0 bis zu\n",
        "der Zahl die mit `range()` angegeben wird.\n",
        "\n",
        "Wir können dieses Wissen gleich nutzen und damit ein Quadrat erzeugen.\n",
        "\n",
        "**Aufgabe:**\n",
        "> Lassen Sie die Schildkröte ein Quadrat zeichnen. Nutzen Sie dafür eine\n",
        "> `for`-Schleife."
      ]
    },
    {
      "cell_type": "code",
      "metadata": {
        "id": "_H7IXkwB-HK7"
      },
      "source": [
        ""
      ],
      "execution_count": null,
      "outputs": []
    },
    {
      "cell_type": "markdown",
      "metadata": {
        "id": "HLOo-jkJ-HK7"
      },
      "source": [
        "## Wieder viel zu einfach\n",
        "\n",
        "Auch das war vermutlich wieder viel zu einfach für Sie. Machen wir es ein wenig\n",
        "spannender.\n",
        "\n",
        "**Aufgabe:**\n",
        "> Lassen Sie die Schildkröte ein regelmässiges 6-Eck zeichnen. Nutzen Sie auch\n",
        "> hierfür eine `for`-Schleife."
      ]
    },
    {
      "cell_type": "code",
      "metadata": {
        "id": "HJulN14f6l-X"
      },
      "source": [
        "def sechseck(length):\n",
        "    for i in range(6):\n",
        "        forward(length)\n",
        "        right(60)\n",
        "\n",
        "initializeTurtle()\n",
        "sechseck(30)    "
      ],
      "execution_count": null,
      "outputs": []
    },
    {
      "cell_type": "markdown",
      "metadata": {
        "id": "sLxijwzv-HK7"
      },
      "source": [
        "## Und schon wieder Funktionen\n",
        "\n",
        "Ich gehe davon aus dass auch das viel zu einfach für Sie ist. In meiner\n",
        "Musterlösung sehen Sie, dass ich daraus eine Funktion gemacht habe. Ich habe das\n",
        "gemacht weil ich denke es könnte praktisch sein ein 6-Eck zu zeichnen, ohne\n",
        "immer überlegen zu müssen wie das gezeichnet wird.\n",
        "\n",
        "**Musterlösung:**\n",
        "\n",
        "```python\n",
        "def sechseck(length):\n",
        "    for i in range(6):\n",
        "        forward(length)\n",
        "        right(60)\n",
        "\n",
        "initializeTurtle()\n",
        "sechseck(30)    \n",
        "```"
      ]
    },
    {
      "cell_type": "markdown",
      "metadata": {
        "id": "IXgusmtd-HK8"
      },
      "source": [
        "## Crazy Turtle\n",
        "\n",
        "Nun ist die Schildkröte durchgedreht... Sie läuft wie wild durch die Gegend und\n",
        "zeichnet überall 6-ecke..."
      ]
    },
    {
      "cell_type": "code",
      "metadata": {
        "id": "uTmZePcK-HK8"
      },
      "source": [
        "from random import randint\n",
        "\n",
        "def sechseck(length):\n",
        "    for i in range(6):\n",
        "        forward(length)\n",
        "        right(60)\n",
        "        \n",
        "def crazy():\n",
        "    penup()\n",
        "    right(randint(0, 360))\n",
        "    forward(randint(40, 100))\n",
        "    pendown()\n",
        "    sechseck(randint(10,20))\n",
        "\n",
        "initializeTurtle(initial_speed=10)\n",
        "for i in range(100):\n",
        "    crazy()\n"
      ],
      "execution_count": null,
      "outputs": []
    },
    {
      "cell_type": "markdown",
      "metadata": {
        "id": "Sy2sh-nt-HK8"
      },
      "source": [
        "## Ganz schön verrückt\n",
        "\n",
        "Sie sehen, dass es durchaus Sinn ergeben kann einige Teile vom Code in Funktionen\n",
        "auszulagern. Bevor wir uns das aber nochmals genauer anschauen, haben wir noch\n",
        "ein wenig Spass mit den Graphiken. Es ist auch möglich in eine alte Graphik zu\n",
        "zeichnen. Wenn Sie die `initializeTurtle()` Funktion einfach weglassen, zeichnen Sie\n",
        "in das Bild der letzten Turtle.\n",
        "\n",
        "Da die verrückte Schildkröte manchmal auch davon laufen kann, können wir die\n",
        "`home()`-Funktion verwenden. Diese Setzt die Schildkröte einfach wieder in den\n",
        "Ausgangspunkt und richtet sie nach oben aus. Beachten Sie, dass der Weg zum Ausgangspunkt gezeichnet wird, wenn der Stift unten ist.\n",
        "\n",
        "**Hinweis:**\n",
        "> Wenn Sie die nächste Zelle ausführen, wird das Bild von oben noch einmal kopiert. Was passiert aber noch?"
      ]
    },
    {
      "cell_type": "code",
      "metadata": {
        "id": "1L_Y83f_-HK8"
      },
      "source": [
        "penup()\n",
        "home()\n",
        "color('blue')\n",
        "for i in range(100):\n",
        "    crazy()\n"
      ],
      "execution_count": null,
      "outputs": []
    },
    {
      "cell_type": "markdown",
      "metadata": {
        "id": "scEkTNS6-HK9"
      },
      "source": [
        "## Farben\n",
        "\n",
        "**Aufgabe:**\n",
        "> Führen Sie den Code in der nächsten Zelle aus, danach ändern Sie die Farbe\n",
        "> und schauen Sie was passiert."
      ]
    },
    {
      "cell_type": "code",
      "metadata": {
        "id": "l2FehPDG-HK9"
      },
      "source": [
        "initializeTurtle(initial_speed=10)\n",
        "\n",
        "color('blue')\n",
        "for i in range(10):\n",
        "    crazy()\n",
        "penup()\n",
        "home()\n",
        "color('red')\n",
        "for i in range(20):\n",
        "    crazy()"
      ],
      "execution_count": null,
      "outputs": []
    },
    {
      "cell_type": "markdown",
      "metadata": {
        "id": "hBsS8lsp-HK9"
      },
      "source": [
        "## Farbe immer ändern\n",
        "\n",
        "Nun möchten wir gerne das sich die Farbe nach jedem zeichnen ändert. Ich gebe\n",
        "Ihnen in der nächsten Zelle das Gerüst dafür vor.\n",
        "\n",
        "**Aufgabe:**\n",
        "> Ergänzen Sie den Code so, dass mindestens vier Farben verwendet werden."
      ]
    },
    {
      "cell_type": "code",
      "metadata": {
        "id": "MfRFEVyZ-HK9"
      },
      "source": [
        "initializeTurtle(initial_speed=10)\n",
        "\n",
        "def choose_random_color():\n",
        "    random_number = randint(0,4)\n",
        "    if random_number == 0:\n",
        "        color('red')\n",
        "    else:\n",
        "        color('blue')\n",
        "\n",
        "for i in range(100):\n",
        "    choose_random_color()\n",
        "    crazy()\n"
      ],
      "execution_count": null,
      "outputs": []
    },
    {
      "cell_type": "markdown",
      "metadata": {
        "id": "e4ItYAcj-HK-"
      },
      "source": [
        "## 3D\n",
        "\n",
        "Leider können wir hier nicht direkt 3-dimensional arbeiten, aber wir können mit\n",
        "der Hilfe von Schrägbildern zum Beispiel einen Würfel zeichnen.\n",
        "\n",
        "**Aufgabe:**\n",
        "> Schreiben Sie eine Funktion `cube(length)`, die der Schildkröte die Anweisung\n",
        "> gibt einen Würfel zu zeichnen. Nutzen Sie den Parameter `length` um die\n",
        "> Kantenlänge des Würfels zu bestimmen."
      ]
    },
    {
      "cell_type": "code",
      "metadata": {
        "id": "Trk9SaI9-HK-"
      },
      "source": [
        ""
      ],
      "execution_count": null,
      "outputs": []
    },
    {
      "cell_type": "markdown",
      "metadata": {
        "id": "umlmP_8T-HK-"
      },
      "source": [
        "## Flächen bemalen\n",
        "\n",
        "Mit der Schildkröte können wir auch Flächen bemalen. Das ist für die\n",
        "Schildkröte ein wenig aufwendig, denn sie muss immer hin und her laufen. Für\n",
        "unsere Zwecke reicht das aber.\n",
        "\n",
        "**Aufgabe:**\n",
        "> Ergänzen Sie den Code für die Funktion `fill_rect(width, height)` so das die\n",
        "> Schildkröte ein Rechteck mit der Breite `width` und der Höhe `height`\n",
        "> ausmalt."
      ]
    },
    {
      "cell_type": "code",
      "metadata": {
        "id": "o7X9BmMf-HK-"
      },
      "source": [
        "initializeTurtle(initial_speed=10)\n",
        "def fill_rect(width, height):\n",
        "    pass # TODO: Löschen Sie diese Zeile, und ergänzen Sie mit Ihrem Code\n",
        "    "
      ],
      "execution_count": null,
      "outputs": []
    },
    {
      "cell_type": "markdown",
      "metadata": {
        "id": "cSgHIUTZ-HK-"
      },
      "source": [
        "## Position der Schildkröte\n",
        "\n",
        "Wenn wir die Position der Schildkröte bestimmen möchten, können wir das mit den\n",
        "Funktionen `getx()` und `gety()` machen.\n",
        "\n",
        "Die Schildkröte zeichnet auf einem Koordinatensystem wie es in der\n",
        "Computergrafik üblicherweise verwendet wird. Das bedeutet der Ursprung ist oben\n",
        "links. Standardmässig wird das Koordinatensystem mit `800` und `500` Pixel\n",
        "verwendet und die Schildkröte an der Position `(400,250)` gesetzt.\n",
        "\n",
        "**Bonus-Aufgabe:**\n",
        "> Definieren Sie einen Bereich auf dem Zeichnungsfeld wo die Schildkröte nicht\n",
        "> zeichnen darf. Also wenn die Schildkröte den Bereich betritt, muss sie den\n",
        "> Stift anheben. Wenn sie den Bereich verlässt, soll sie den Stift wieder\n",
        "> senken."
      ]
    },
    {
      "cell_type": "code",
      "metadata": {
        "id": "52dRMhuT-HK_",
        "collapsed": true
      },
      "source": [
        ""
      ],
      "execution_count": null,
      "outputs": []
    },
    {
      "cell_type": "markdown",
      "metadata": {
        "id": "8YfrhyfBAR0p"
      },
      "source": [
        "# Lösungen\n",
        "## 3D\n",
        "```python\n",
        "initializeTurtle(initial_speed=10)\n",
        "\n",
        "def cube(length):\n",
        "  for i in range(4):\n",
        "    forward(length)\n",
        "    right(-90)\n",
        "  right(30)\n",
        "  forward(length/2)\n",
        "  right(-30)\n",
        "  forward(length)\n",
        "  right(-90)\n",
        "  forward(length)\n",
        "  right(-60)\n",
        "  forward(length/2)\n",
        "  right(-120)\n",
        "  forward(length)\n",
        "  right(-60)\n",
        "  forward(length/2)\n",
        "  penup()\n",
        "  home()\n",
        "\n",
        "cube(50)\n",
        "```\n",
        "\n",
        "## Flächen bemalen\n",
        "\n",
        "```python\n",
        "initializeTurtle(initial_speed=10)\n",
        "def fill_rect(width, height):\n",
        "    for i in range(width):\n",
        "      forward(height)\n",
        "      right(((-1)**i)*90)\n",
        "      forward(1)\n",
        "      right(((-1)**i)*90)\n",
        "\n",
        "fill_rect(100,200)\n",
        "```\n",
        "*Bemerkung*\\\n",
        "`(-1)**i` bedeutet $(-1)^i$ und führt dazu, dass entweder `right(90)` für gerades `i` eine Drehung um 90° nach rechts, oder `right(-90)` für ungerades `i` eine Drehung um 90° nach links, ausgeführt wird.\n"
      ]
    }
  ]
}