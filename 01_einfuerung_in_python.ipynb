{
  "nbformat": 4,
  "nbformat_minor": 0,
  "metadata": {
    "kernelspec": {
      "display_name": "Python 3",
      "language": "python",
      "name": "python3"
    },
    "language_info": {
      "codemirror_mode": {
        "name": "ipython",
        "version": 3
      },
      "file_extension": ".py",
      "mimetype": "text/x-python",
      "name": "python",
      "nbconvert_exporter": "python",
      "pygments_lexer": "ipython3",
      "version": "3.8.6"
    },
    "colab": {
      "name": "01_einfuerung_in_python.ipynb",
      "provenance": [],
      "collapsed_sections": [],
      "include_colab_link": true
    }
  },
  "cells": [
    {
      "cell_type": "markdown",
      "metadata": {
        "id": "view-in-github",
        "colab_type": "text"
      },
      "source": [
        "<a href=\"https://colab.research.google.com/github/screto/Informatik-2IM/blob/main/01_einfuerung_in_python.ipynb\" target=\"_parent\"><img src=\"https://colab.research.google.com/assets/colab-badge.svg\" alt=\"Open In Colab\"/></a>"
      ]
    },
    {
      "cell_type": "markdown",
      "metadata": {
        "id": "Ig6GEUFI9yj0"
      },
      "source": [
        "# Einführung ins Programmieren\n",
        "\n",
        "Bei Programmieren geht es darum dem Computer Anweisungen zu erteilen, welche\n",
        "dieser dann umsetzt. Das ist sehr praktisch wenn es um Aufgaben geht, die sehr\n",
        "viel Wiederholung brauchen und keine Kreativität erfordern. Darin ist der\n",
        "Computer sehr gut und extrem viel schneller als der Mensch. Der Computer kann\n",
        "jedoch die natürliche Sprache nicht erkennen und und daraus komplexe\n",
        "Aufgabenstellungen herausarbeiten. Das ist die Aufgabe des Programmierers. Damit\n",
        "uns der Computer aber versteht, müssen wir die Anweisungen in der\n",
        "Computersprache geben. Da wurde zum Glück sehr viel Fortschritt gemacht seit\n",
        "den aller ersten Programmiersprachen, aber auch heute bereiten die modernen\n",
        "Programmiersprachen sehr vielen Anwendern grosse Probleme.\n",
        "\n",
        "Das muss jedoch nicht sein. Denn im Gegensatz zur natürlichen Sprache, ist bei\n",
        "einer Programmiersprache alles ganz eindeutig definiert. Es geht also nur darum\n",
        "diese Sprache ganz genau zu lernen. Aber auch das ist nicht so schwierig. Zum\n",
        "Beispiel ist Python extra so entwickelt worden, dass sie sehr gut für den\n",
        "Menschen lesbar ist.\n",
        "\n",
        "Wir beschäftigen uns in dieser Seqzenz vor allem mit Python. Dabei lernen wir\n",
        "zuerst die Syntax von Python und danach schauen wir uns einige\n",
        "Programmierbeispiele an. Wir lernen auch gleich mit Jupyter Notebooks zu\n",
        "arbeiten. Jupyter Notebooks ist eine Umgebung, die wir verwenden können um\n",
        "einfach Dinge mit Python zu programmieren. Man kann es aber auch verwenden um\n",
        "Daten zu analysieren und man kann damit sogar den Taschenrechner ersetzen."
      ]
    },
    {
      "cell_type": "markdown",
      "metadata": {
        "id": "x9nI6v2e9yj6"
      },
      "source": [
        "## Jupyter Notebooks\n",
        "\n",
        "Im Moment arbeiten wir gerade in einem Jupyter Notebook. Wir sagen dazu\n",
        "manchmal auch einfach nur Notebook. So ein Notebook besteht aus verschiedenen\n",
        "Zellen, die einfach hintereinander gehängt werden. Es gibt hier Grundsätzlich 2\n",
        "verschiedene Typen von Zellen. Es gibt Zellen die Text enthalten (das was Sie\n",
        "gerade lesen ist so eine Zelle) und es gibt Code Zellen. Diese Code Zellen sind\n",
        "für uns interessanter, denn sie enthalten Code den wir ausführen können. In\n",
        "Jupyter Notebooks können Sie eine Zelle ausführen, indem Sie die Zelle anwählen\n",
        "und dann `Ctrl+Enter` drücken.\n",
        "\n",
        "**Aufgabe:**\n",
        "> In der nächsten Zelle finden Sie ein *Hello World!* Programm. Ein solches\n",
        "> Programm gibt es eigentlich für jede Programmiersprache, und soll dem\n",
        "> Programmierer einen ersten einfachen Erfolg in seiner Karriere bieten. \n",
        ">\n",
        "> Wählen Sie die nächste Zelle an, und führen Sie diese mit `Ctrl+Enter` aus."
      ]
    },
    {
      "cell_type": "code",
      "metadata": {
        "id": "1ZWaky8C9yj7"
      },
      "source": [
        "print('Hello World!')"
      ],
      "execution_count": null,
      "outputs": []
    },
    {
      "cell_type": "markdown",
      "metadata": {
        "id": "gwyOd8ra9yj7"
      },
      "source": [
        "## Bravo\n",
        "\n",
        "Sie sehen jetzt das unter der Zelle der Text *Hello World!* ausgegeben wurde.\n",
        "Für Sie mag dies nichts besonderes sein, aber als Computer noch ganz neu waren,\n",
        "war es nicht immer ganz einfach eine Textausgabe auf dem Bildschirm zu\n",
        "erhalten. Das ist also bereits ein grosser Erfolg für einen Programmierer. Für\n",
        "moderne Systeme und jetzt natürlich auch für uns, geht es bei einem solchen\n",
        "Programm mehr darum zu überprüfen ob ihr System richtig konfiguriert ist, und\n",
        "ob sich ihr Code auch ausführen lässt.\n",
        "\n",
        "Aber es ist für uns auch ein sehr wichtiges Werkzeug, denn wir können den\n",
        "`print`-Befehl verwenden um Berechnungen die wir im Programm gemacht haben für\n",
        "uns sichtbar zu machen. Da helfen uns die Notebooks bis zu einem gewissen Grad\n",
        "auch ein wenig, aber es ist besser immer den `print`-Befehl zu verwenden.\n",
        "\n",
        "**Aufgabe:**\n",
        "> In der nächsten Zelle finden Sie eine leere Code-Zelle. Schreiben Sie hier\n",
        "> ihr eigenes *Hello World!* Programm, das Sie mit Ihrem Namen statt mit\n",
        "> *World* begrüsst."
      ]
    },
    {
      "cell_type": "code",
      "metadata": {
        "id": "8r1uJG2I9yj8"
      },
      "source": [
        ""
      ],
      "execution_count": null,
      "outputs": []
    },
    {
      "cell_type": "markdown",
      "metadata": {
        "id": "xER96SQN9yj8"
      },
      "source": [
        "## Sehr gut\n",
        "\n",
        "Sie haben jetzt bereits relativ viel über das Programmieren gelernt. Zum\n",
        "Beispiel wissen Sie jetzt, dass das, was ausgegeben werden soll, in `()` stehen\n",
        "muss. Ausserdem haben Sie sicher auch gemerkt, dass wir diese Zeichen `''`\n",
        "brauchen. Diese werden benötigt um Python mitzuteilen das hier eine\n",
        "Zeichenkette kommt.\n",
        "\n",
        "Das scheint für uns als Mensch doch eher merkwürdig, denn es ist ja klar dass\n",
        "der Teil in den Klammern ausgegeben werden soll. Aber wie wir weiter oben\n",
        "bereits gesehen haben, es ist für den Computer sehr wichtig das alles klar und\n",
        "eindeutig definiert ist. So wie wir die `()` verwenden um Start und Ende von\n",
        "etwas klar zu machen, können wir `''` verwenden, um den Start und das Ende von\n",
        "einer Zeichenkette klar zu machen."
      ]
    },
    {
      "cell_type": "markdown",
      "metadata": {
        "id": "UZIFciH59yj8"
      },
      "source": [
        "## Zeichenketten\n",
        "\n",
        "Der Computer wäre aber nicht sehr nützlich wenn er nur vom Mensch vorgegebene\n",
        "Zeichenketten ausgeben kann. Dann wäre er ja gerade mal so gut wie eine\n",
        "Schreibmaschine. Wir wissen aber alle, dass der Computer viel mehr kann und\n",
        "natürlich kann auch Python sehr viel mehr. Wir können zum Beispiel\n",
        "Zeichenketten miteinander Verknüpfen, also diese einfach aneinander hängen. Das\n",
        "machen wir mit einem einfachen `+`.\n",
        "\n",
        "**Aufgabe:**\n",
        "> Schreiben Sie ein neues *Hello Name!* Programm, welches die Zeichenkette\n",
        "> *Hello Name!* selber zusammen setzt. Verwenden Sie dafür den `+` Operator."
      ]
    },
    {
      "cell_type": "code",
      "metadata": {
        "id": "2C1l8w4I9yj9"
      },
      "source": [
        ""
      ],
      "execution_count": null,
      "outputs": []
    },
    {
      "cell_type": "markdown",
      "metadata": {
        "id": "Hpvj-W819yj9"
      },
      "source": [
        "## Toll\n",
        "\n",
        "Sie sind auf bestem Weg ein Programmierer zu werden.\n",
        "\n",
        "Aber nur eine Verknüpfung von Zeichenketten scheint auch noch nicht so toll zu\n",
        "sein. Da muss doch noch mehr gehen. Und das geht auch mit Variablen. Variablen\n",
        "sind mitunter die wichtigsten Bausteine beim Programmieren. Eine Variable ist\n",
        "nichts anderes als ein Speicherplatz den sich der Computer gemerkt hat. Das\n",
        "heisst für Sie also, Sie können dem Computer sagen was er speichern soll. Ganz\n",
        "korrekt würde man hier sagen: **man weist einer Variablen einen Wert zu**. Um\n",
        "wirklich zu verstehen was hier passiert, ist dieser Satz sehr wichtig. Der Satz\n",
        "wird an folgendem Beispiel erklärt:\n",
        "\n",
        "```python\n",
        "name = 'Cedric'\n",
        "```\n",
        "\n",
        "In dem Code hier wird der Variablen `name` der Wert `'Cedric'` zugewiesen. Es\n",
        "ist wichtig, dass wir das hier richtig verstehen. Immer wenn wir eine Zeile Code\n",
        "schreiben, geben wir dem Computer damit eine Anweisung. Hier ist die Anweisung,\n",
        "dass der Computer den Wert `'Cedric'` in der Variablen `name` speichern soll.\n",
        "Für uns scheint es irgendwie intuitiver zu sein das ganze zu lesen als `name`\n",
        "ist gleich `'Cedric'`. Das ist nicht unbedingt falsch, denn in der Variable\n",
        "`name` ist nach dem ausführen dieser Zeile der Wert `'Cedric'` gespeichert. Wir\n",
        "sollten es jedoch mehr als Anweisung lesen, denn das ist die Art und Weise, wie wir schliesslich mit dem Computer interagieren. Wir geben dem Computer\n",
        "Anweisungen, die er so ausführt, wie wir sie im geben.\n",
        "\n",
        "Um zu überprüfen ob Sie diesen Teil wirklich verstanden haben, implementieren\n",
        "Sie die folgende Aufgabe. Sollten Sie Probleme damit haben, lesen Sie diese\n",
        "Zelle nochmals ganz genau durch.\n",
        "\n",
        "**Aufgabe:**\n",
        "> Weisen Sie der Variable `welcome` den Wert `'Hallo'` zu.\n",
        ">\n",
        "> Weisen Sie der Variable `name` Ihr Name als Wert zu.\n",
        ">\n",
        "> Erzeugen Sie eine neue Variable `greeting`, und weisen Sie dieser Variable\n",
        "> folgenden Wert zu: Den Wert der Variablen `welcome` verknüpft mit einem\n",
        "> Leerzeichen und dem Wert der Variablen `name`.\n",
        ">\n",
        "> Geben Sie den Wert der Variable `greeting` mit dem `print`-Befehl aus."
      ]
    },
    {
      "cell_type": "code",
      "metadata": {
        "id": "6COSK6gD9yj-"
      },
      "source": [
        ""
      ],
      "execution_count": null,
      "outputs": []
    },
    {
      "cell_type": "markdown",
      "metadata": {
        "id": "lSvUDmgy9yj-"
      },
      "source": [
        "**Lösung:**\n",
        "\n",
        "Hier finden Sie die Lösung der letzten Aufgabe. Vergleichen Sie Ihren Code mit\n",
        "dieser Lösung um sicher zu sein, dass Sie alles richtig verstanden haben.\n",
        "Schauen Sie sich die Lösung erst an, wenn Sie denken, dass Sie die Aufgabe so\n",
        "gelöst haben wie Sie beschrieben wurde.\n",
        "\n",
        "```python\n",
        "welcome = 'Hallo'\n",
        "name = 'Cedric'\n",
        "greeting = welcome + ' ' + name\n",
        "print(greeting)\n",
        "```\n",
        "\n",
        "## Mehrere Anweisungen\n",
        "\n",
        "Sie haben das sicher selbst schon gemerkt, wenn Sie mehrere Anweisungen in\n",
        "einer Zelle ausführen möchten, dann schreiben Sie diese einfach untereinander\n",
        "hin. Python weiss dann, dass pro Zeile eine Anweisung steht. Das ist nicht in\n",
        "allen Programmiersprachen gleich. Die meisten brauchen ein spezielles Zeichen\n",
        "um zu wissen, wo eine Anweisung beginnt und wo diese fertig ist. Weil Python\n",
        "hauptsächlich für Leserlichkeit gemacht wurde, hat man sich hier entschieden\n",
        "kein solches spezielles Zeichen einzuführen, sondern alles auf einzelnen Zeilen\n",
        "zu machen. Weil in Python auf diese speziellen Zeichen verzichtet wird, ist es\n",
        "aber wichtig auf die Einrückung zu achten. \n",
        "\n",
        "**Aufgabe:**\n",
        "> Führen Sie die nächste Zelle aus, und schauen Sie sich die Fehlermeldung\n",
        "> genau an."
      ]
    },
    {
      "cell_type": "code",
      "metadata": {
        "id": "w_bTfxXI9yj-"
      },
      "source": [
        "print('Das geht noch!')\n",
        "    print('Das hier geht nicht!!!')"
      ],
      "execution_count": null,
      "outputs": []
    },
    {
      "cell_type": "markdown",
      "metadata": {
        "id": "UoqCVpXO9yj-"
      },
      "source": [
        "## Fehler\n",
        "\n",
        "Wenn Sie die Zelle oben ausführen, sehen Sie das ein `IndentationError`\n",
        "geworfen wird. Wenn Sie das übersetzen, erhalten Sie einen\n",
        "*Einrückungs*-Fehler. Python sagt uns hier also, dass etwas falsch eingerückt\n",
        "ist.\n",
        "\n",
        "Das ist für uns eigentlich noch nicht so wichtig, denn wir arbeiten noch nicht\n",
        "mit Blöcken, aber falls Sie mal Code aus dem Internet oder sonst wo her\n",
        "kopieren, kann das ein häufiger Fehler sein. Das scheint sehr penetrant von\n",
        "Python zu sein, dass es diesen Code oben nicht verstehen will, und das mit der\n",
        "Einrückung ist auch sehr oft Kritik an dieser Sprache, aber das schöne daran\n",
        "ist, dass es uns dazu zwingt, lesbaren Code zu schreiben."
      ]
    },
    {
      "cell_type": "markdown",
      "metadata": {
        "id": "QH6CGyc69yj_"
      },
      "source": [
        "## Computerspiel selber schreiben\n",
        "\n",
        "Bis jetzt können wir Zeichenketten in Variablen speichern und diese miteinander\n",
        "verknüpfen. Und wir können Zeichenketten und Variablen anzeigen lassen mit\n",
        "dem `print`-Befehl. Das scheint aber alles nicht sehr nützlich zu sein. Wie\n",
        "könnte man damit ein Computerspiel programmieren?\n",
        "\n",
        "Ein Computerspiel zu programmieren ist vielleicht noch ein wenig weit weg, aber\n",
        "auch nicht so weit wie Sie denken. Was wir bis jetzt noch nicht können, ist\n",
        "eine Eingabe vom Benutzer anzunehmen und diese mit dem Computer zu verarbeiten.\n",
        "Für ein potenzielles Computerspiel, wäre das aber sicher nötig.\n",
        "Glücklicherweise hat Python eine sehr einfache Art und Weise eine Eingabe vom\n",
        "Benutzer zu erhalten. Sie können einfach den Befehl `input()` verwenden.\n",
        "\n",
        "**Aufgabe:**\n",
        "> Führen Sie die nächste Zelle aus und schauen Sie was passiert."
      ]
    },
    {
      "cell_type": "code",
      "metadata": {
        "id": "Xnu9tWqW9yj_"
      },
      "source": [
        "name = input('Bitte geben Sie Ihren Namen ein: ')\n",
        "print('Hello ' + name)"
      ],
      "execution_count": null,
      "outputs": []
    },
    {
      "cell_type": "markdown",
      "metadata": {
        "id": "tnU460u89yj_"
      },
      "source": [
        "## Wow...\n",
        "\n",
        "Das scheint Sie nicht so recht zu beeindrucken. Eigentlich konnten Sie das ja\n",
        "vorher schon. Aber Sie müssen hier ein wenig anders überlegen. Zuvor haben Sie\n",
        "als Entwickler den Code geändert und ausgeführt. Jetzt in diesem Beispiel,\n",
        "führen Sie nur den Code aus, der ein Entwickler geschrieben hat, und der Code\n",
        "arbeitet mit Ihrer Eingabe. Wenn Sie sich das mal bewusst machen, sehen Sie\n",
        "bereits dass Sie den ersten Schritt zu einem Computerspiel gemacht haben. Jetzt\n",
        "können Sie Ihrem Charakter schon mal einen Namen geben und der Rest des Spiels\n",
        "ist dann einfach zu programmieren.\n",
        "\n",
        "Leider ist es nicht ganz so einfach den Rest auch noch zu machen, aber das\n",
        "werden Sie auch noch lernen. Zuerst müssen Sie aber mal verstehen was hier\n",
        "genau passiert ist, und dafür müssen wir eine neue Terminologie einführen,\n",
        "damit wir alle vom gleichen sprechen."
      ]
    },
    {
      "cell_type": "markdown",
      "metadata": {
        "id": "Ff-uhTH19ykA"
      },
      "source": [
        "## Funktionen\n",
        "\n",
        "Zuvor haben wir bereits vom `print`-Befehl gesprochen. Das war nicht ganz\n",
        "korrekt. Eigentlich ist es eine `print`-Funktion oder oft verwendet man\n",
        "auch `print`-Methode. Eine Funktion erkennt man daran dass sie nach dem Namen\n",
        "diese `()`-Klammern hat. Wie wir bei der `print`-Funktion gesehen haben, können\n",
        "wir der Funktion Werte übergeben, mit der die Funktion etwas macht. Diese\n",
        "Werte nennen wir **Argumente**. Wenn Sie die `input`-Funktion betrachten, sehen\n",
        "Sie, dass auch diese Funktion ein Argument hat.\n",
        "\n",
        "Wenn Sie sich nun den Code in der Zelle weiter oben nochmals anschauen, und\n",
        "sich genau überlegen was Sie jetzt eigentlich sehen und Ihr ganzes Wissen aus\n",
        "dieser Lektion anwenden, sollten Sie zu folgender Aussage kommen:\n",
        "\n",
        "> Der Variable `name` wird der Wert der Funktion `input` zugewiesen.\n",
        ">\n",
        "> Die Funktion `input` wird dafür mit dem Wert `'Bitte geben Sie Ihren Namen\n",
        "> ein: '` aufgerufen.\n",
        ">\n",
        "> Die Funktion `print` wird mit dem Argument `name` aufgerufen und gibt den\n",
        "> Wert davon aus.\n",
        "\n",
        "Das meiste was Sie hier gelesen haben, sollte für Sie Sinn ergeben, denn es ist\n",
        "fast alles oben im Text erklärt. Wenn das nicht so ist, sollten Sie den Text\n",
        "nochmals genau lesen, oder Fragen stellen. Verständnis ist hier im Moment das\n",
        "wichtigste, denn der ganze Rest wird darauf aufbauen."
      ]
    },
    {
      "cell_type": "markdown",
      "metadata": {
        "id": "5l8VgluB9ykA"
      },
      "source": [
        "## Rückgabewert\n",
        "\n",
        "In der letzten Zelle ist vom Wert der Funktion `input` die Sprache. Aber was\n",
        "genau ist das. Der Wert einer Variablen ergibt ja Sinn, denn eine Variable soll\n",
        "ja einfach einen Wert speichern. Aber der Wert einer Funktion scheint hier noch\n",
        "unklar zu sein. Auch wenn es nicht ganz korrekt ist, nehmen wir den bereits aus\n",
        "der Mathematik bekannten Begriff der Funktion zu Hilfe. Da sehen wir nämlich, das wir für verschiedene Argumente unterschiedliche Werte erhalten. In der Informatik sprechen wir bei diesem Wert vom **Rückgabewert** oder im englischen wäre dies der **return value**. Versuchen wir doch gleich mal eine solche Funktion zu schreiben.\n",
        "\n",
        "**Aufgabe:**\n",
        "> In der nächsten Zelle finden Sie Code der eine Funktion definiert. Nämlich\n",
        "> die Funktion\n",
        "> $$f: x \\rightarrow y = x + 2$$\n",
        "> Und weiteren Code, der die Funktion aufruft.\n",
        ">\n",
        "> Spielen Sie ein wenig mit diesem Code, bis Sie verstehen was hier genau\n",
        "> passiert."
      ]
    },
    {
      "cell_type": "code",
      "metadata": {
        "id": "ud0rvB3V9ykA"
      },
      "source": [
        "def f(x):\n",
        "    result = x + 2\n",
        "    return result\n",
        "\n",
        "\n",
        "y = f(2)\n",
        "print(y)"
      ],
      "execution_count": null,
      "outputs": []
    },
    {
      "cell_type": "markdown",
      "metadata": {
        "id": "i_GzV-CF9ykA"
      },
      "source": [
        "## Return\n",
        "\n",
        "In der Zelle oben, sehen Sie sehr viel. Wir konzentrieren uns zuerst mal auf\n",
        "das Schlüsselwort **return**, denn genau das ist im Moment gerade unser Thema,\n",
        "also der **Rückgabewert** der Funktion. Das Ganze scheint hier aber noch ein\n",
        "wenig magisch zu sein, deshalb schlüsseln wir diese Zelle mal zusammen auf und\n",
        "gehen sie Stück für Stück durch.\n",
        "\n",
        "Wir starten mal ganz oben in der Zelle und sehen dass dort eine Funktion\n",
        "definiert wird. Wir können aus der Zeile 1 auch noch andere Informationen\n",
        "lesen, nämlich den Namen der Funktion `f` und das die Funktion das Argument\n",
        "`x` entgegen nimmt. Was die Funktion genau macht interessiert uns zu dem\n",
        "Zeitpunkt noch nicht, das einzige was wir noch wissen müssen, ist ob sie einen\n",
        "Rückgabewert hat. Das können wir ganz einfach ablesen, denn wir sehen jetzt\n",
        "dass die nächsten beiden Zeilen eingerückt sind. In dieser Einrückung suchen\n",
        "wir einfach nach den Schlüsselwort **return**. Haben wir das gefunden, wissen\n",
        "wir das die Funktion etwas zurück gibt, was das genau ist, interessiert uns\n",
        "noch nicht so.\n",
        "\n",
        "Wir verlassen dann die Einrückung und gehen weiter zur Zeile 6. Da sehen wir,\n",
        "dass unsere Funktion `f` mit dem Wert `2` aufgerufen wird und der Rückgabewert\n",
        "von `f` wird der Variable `y` zugewiesen.\n",
        "\n",
        "In der letzten Zeile wird dann die Funktion `print` aufgerufen, welche den Wert\n",
        "der Variable `y` zurückgibt.\n",
        "\n",
        "## Rückgabewerte und Funktionen sind einfach\n",
        "\n",
        "Sie sehen also das Funktionen sehr einfach zu beschreiben sind und auch deren\n",
        "Rückgabewerte funktionieren genau so wie erwartet. Sie sehen nun auch, dass es\n",
        "Sinn ergibt hier mit Einrückungen zu arbeiten, denn so können wir gerade sehen,\n",
        "was zu der Funktion gehört und was nicht."
      ]
    },
    {
      "cell_type": "markdown",
      "metadata": {
        "id": "UB_1lawA9ykB"
      },
      "source": [
        "## Nicht nur Zeichenketten\n",
        "\n",
        "Vielleicht haben Sie es bemerkt, aber vielleicht haben Sie es auch einfach\n",
        "überlesen, weil es so natürlich scheint, aber in der Funktion `f` haben wir mit\n",
        "dem `+`-Zeichen nicht 2 Zeichenketten verknüpft, sondern ganz normale Addition\n",
        "gemacht. Sie können natürlich alle normalen Mathematikoperationen verwenden, so\n",
        "wie Sie das auch erwarten würden. Interessant ist aber, dass das Zeichen `+`\n",
        "sich anders verhält, je nachdem wie es gerade verwendet wurde. Dem möchten wir\n",
        "nun nachgehen und verstehen, was hier genau passiert.\n",
        "\n",
        "**Aufgabe:**\n",
        "> In der nächsten Zelle finden Sie Code, der einen Fehler ausgibt, wenn Sie den\n",
        "> ausführen. Lesen Sie die Fehlermeldung ganz genau durch und beschreiben Sie,\n",
        "> was der Fehler ist. Schreiben Sie ausserdem auf, was in der Zelle funktioniert\n",
        "> und weshalb. "
      ]
    },
    {
      "cell_type": "code",
      "metadata": {
        "id": "yeeE5YB19ykB"
      },
      "source": [
        "num = 2 + 2\n",
        "greeting = 'Hello ' + 'Cedric'\n",
        "test = 'Hallo' + 2"
      ],
      "execution_count": null,
      "outputs": []
    },
    {
      "cell_type": "markdown",
      "metadata": {
        "id": "HhmKnC9h9ykB"
      },
      "source": [
        "## Verknüpfung von `str` und `int`\n",
        "\n",
        "In der dritten Zeile sagen wir dem Computer, er soll eine Zeichenkette und eine\n",
        "Zahl miteinander verknüpfen. Nehmen Sie sich kurz Zeit und überlegen Sie sich,\n",
        "wie Sie das machen würden. Vermutlich würden Sie einfach die Zahl an die\n",
        "Zeichenkette hängen und das wäre dann ihr Resultat. Das scheint auch\n",
        "vernünftig zu sein das so zu machen, aber Python weiss nicht, dass das ihr\n",
        "gewünschtes Verhalten ist. Und das ergibt auch Sinn, denn mit der\n",
        "Mehrdeutigkeit der `+`-Zeichens, können dann auch unerwartete Fehler\n",
        "auftreten. In der Zelle oben ist es ziemlich klar was passieren soll, aber\n",
        "schauen Sie sich mal die nächste Zelle an."
      ]
    },
    {
      "cell_type": "code",
      "metadata": {
        "id": "4zb6cAVa9ykB"
      },
      "source": [
        "num1 = \"eins\"\n",
        "num2 = 2\n",
        "result = num1 + num2"
      ],
      "execution_count": null,
      "outputs": []
    },
    {
      "cell_type": "markdown",
      "metadata": {
        "id": "0G77dN7D9ykC"
      },
      "source": [
        "## Merkwürdiges Beispiel\n",
        "\n",
        "Sie haben absolut recht, das ist ein sehr merkwürdiges Beispiel, das ich hier\n",
        "gemacht habe, aber es zeigt das Problem sehr schön auf. Betrachten Sie nur mal\n",
        "die letzte Zeile, dann lesen Sie dort das die Variable `num1` und die Variable\n",
        "`num2` mit dem `+`-Zeichen verknüpft werden sollen. Übersetzen wir diese\n",
        "Aussage mal auf Deutsch, dann steht da: 2 Zahlen werden addiert. Das schliessen\n",
        "Sie, weil die Variablen `num` heissen, also sollten es Zahlen sein. Das muss\n",
        "aber nicht so sein. Wie Sie bereits wissen, können Sie auch Zeichenketten in\n",
        "Variablen speichern.\n",
        "\n",
        "Nehmen Sie sich auch hier kurz die Zeit darüber nachzudenken, was Python hier\n",
        "gemacht hat mit der Fehlermeldung. Als Mensch sind wir davon ausgegangen, dass\n",
        "hier eine Addition von 2 Zahlen stattfindet. Das ist aber nicht, was im Code\n",
        "steht. Python schützt uns hier also davor einen dummen Fehler zu machen, nur\n",
        "weil die Variablen schlecht benannt sind. Wir können also dankbar sein, dass hier ein Fehler geworfen wird!"
      ]
    },
    {
      "cell_type": "markdown",
      "metadata": {
        "id": "PqWl3NF79ykC"
      },
      "source": [
        "## Fehler beheben\n",
        "\n",
        "Das mag ja alles interessant sein, aber ich möchte nun diesen Fehler loswerden\n",
        "und einfach nur die Zahl an die Zeichenkette hängen!\n",
        "\n",
        "Kein Problem, das können wir ganz einfach erreichen. Was Sie eigentlich wollen,\n",
        "ist ja 2 Zeichenketten aneinander hängen, und das geht ganz leicht mit dem\n",
        "`+`-Zeichen. Was wir also brauchen ist einen Funktion die eine Zahl nimmt und\n",
        "diese in eine Zeichenkette umwandelt. Zum Glück hat Python die Funktion\n",
        "`str()`.\n",
        "\n",
        "Probieren Sie es im obigen Code aus. Wenn es funktioniert, dann sollte keine Fehlermeldung mehr kommen. Wenn Sie überprüfen möchten, was das Programm gemacht hat, dann ergänzen Sie das Programm mit der Zeile `print(result)`.\n",
        "\n",
        "**Aufgabe:**\n",
        "> Verwenden Sie die Funktion `str()` um den Code in der folgenden Zelle zu\n",
        "> korrigieren."
      ]
    },
    {
      "cell_type": "code",
      "metadata": {
        "id": "bxmlJ22s9ykC"
      },
      "source": [
        "text = \"Willkommen im Jahr \"\n",
        "year = 2021\n",
        "print(text + year)"
      ],
      "execution_count": null,
      "outputs": []
    },
    {
      "cell_type": "markdown",
      "metadata": {
        "id": "jVuMzWn_9ykD"
      },
      "source": [
        "## Problem gelöst?\n",
        "\n",
        "Wenn keine Fehlermeldung kommt, dann scheint Python mit dem Code zufrieden zu sein.\n",
        "\n",
        "### Richtige Lösung\n",
        "\n",
        "Die Zelle oben können Sie auf mehrere Arten lösen, damit der Fehler weggeht.\n",
        "Ich gebe Ihnen hier die *richtige* Lösung. Richtig ist hier Subjektiv, jedoch\n",
        "kann begründet werden, weshalb diese Lösung am meisten Sinn ergibt.\n",
        "\n",
        "```python\n",
        "text = \"Willkommen im Jahr \"\n",
        "year = 2021\n",
        "print(text + str(year))\n",
        "```\n",
        "\n",
        "Es ergibt Sinn die Methode `str()` hier anzuwenden, weil der Fehler im Code\n",
        "hier auftritt, und auch weil wir erst hier die Variable `year` in eine\n",
        "Zeichenkette umwandeln müssen.\n",
        "\n",
        "Vielleicht möchten Sie später im Programm die Variable `year` noch einmal als Zahl verwenden, weil Sie vielleicht 10 Jahre dazuzählen möchten. Also:\n",
        "```python\n",
        "year10= year + 10\n",
        "```\n",
        "Deshalb macht es Sinn, die Variable als Zahl zu belassen und nur dann als Zeichenkette umzuwandeln, wenn es unbedingt nötig ist."
      ]
    },
    {
      "cell_type": "markdown",
      "metadata": {
        "id": "EI_Qg-J59ykD"
      },
      "source": [
        "## Text in Zahlen umwandeln\n",
        "\n",
        "Es wäre sicher auch praktisch wenn wir Text in Zahlen umwandeln können. Dafür\n",
        "hat Python auch eine sehr praktische Funktion, nämlich die Funktion `int()`.\n",
        "Diese Funktion nimmt eine Zeichenkette als Argument und wenn diese in eine\n",
        "Zahl umgewandelt werden kann, gibt sie eine Zahl zurück. Das ist extrem\n",
        "praktisch für uns, wenn wir eine Zahl vom Benutzer einlesen lassen möchten.\n",
        "\n",
        "**Aufgabe:**\n",
        "> Führen Sie die folgende Zelle aus, und beschreiben Sie, was genau in jeder\n",
        "> Zeile passiert."
      ]
    },
    {
      "cell_type": "code",
      "metadata": {
        "id": "CJLhAN8z9ykD"
      },
      "source": [
        "number_text = input('Geben Sie eine Zahl ein: ')\n",
        "number = int(number_text)\n",
        "number = number + 5\n",
        "print('Die Zahl die Sie einegeben haben, ist um 5 kleiner als: ' + str(number))"
      ],
      "execution_count": null,
      "outputs": []
    },
    {
      "cell_type": "markdown",
      "metadata": {
        "id": "i_N6mNiz9ykD"
      },
      "source": [
        "## Lernkontrolle\n",
        "\n",
        "Um zu überprüfen ob Sie alles verstanden haben, lösen Sie die folgenden\n",
        "Aufgaben.\n",
        "\n",
        "**Aufgabe:**\n",
        "> Schreiben Sie ein Programm, welches Sie mit Ihrem Namen im neuen Jahr\n",
        "> willkommen heisst. Die Ausgabe sollte in etwa so aussehen: `Hallo Name! Das\n",
        "> Jahr 2020 ist zu Ende, Willkommen im Jahr 2021.`.\n",
        ">\n",
        "> Der Name soll vom Benutzer eingegeben werden.\n",
        ">\n",
        "> `2020` wird der Variable `year` zugewiesen, und `2021` wird aus `year`\n",
        "> berechnet. "
      ]
    },
    {
      "cell_type": "code",
      "metadata": {
        "id": "4ujrOY7y9ykE"
      },
      "source": [
        ""
      ],
      "execution_count": null,
      "outputs": []
    },
    {
      "cell_type": "markdown",
      "metadata": {
        "id": "5b9Nr38_9ykE"
      },
      "source": [
        "**Aufgabe:**\n",
        "> Schreiben Sie eine Funktion `g`, die `x` als Argument nimmt, und $x^2$\n",
        "> zurückgibt, also $g(x)=x^2$.\n",
        ">\n",
        "> Das Programm soll eine Zahl vom Benutzer lesen und diese in die Funktion\n",
        "> geben und danach das Resultat ausgeben."
      ]
    },
    {
      "cell_type": "code",
      "metadata": {
        "id": "RmhK0KulDd7-"
      },
      "source": [
        ""
      ],
      "execution_count": null,
      "outputs": []
    },
    {
      "cell_type": "markdown",
      "metadata": {
        "id": "Dd2ex85N9ykE"
      },
      "source": [
        "## Bonus\n",
        "\n",
        "Diese Aufgabe ist für die schnelleren und muss nicht unbedingt gelöst\n",
        "werden.\n",
        "\n",
        "**Aufgabe:**\n",
        "> Schreiben Sie ein Programm, das Ihren Namen und Ihr Geburtsjahr als\n",
        "> Benutzereingabe einliest und Ihnen dann sagt, wie alt Sie in diesem Jahr\n",
        "> werden."
      ]
    }
  ]
}